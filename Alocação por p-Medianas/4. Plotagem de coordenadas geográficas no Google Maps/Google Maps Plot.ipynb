{
 "cells": [
  {
   "cell_type": "markdown",
   "id": "0090dc7f",
   "metadata": {},
   "source": [
    "## Import libraries and data"
   ]
  },
  {
   "cell_type": "code",
   "execution_count": null,
   "id": "643729e4",
   "metadata": {},
   "outputs": [],
   "source": [
    "import gmplot\n",
    "import pandas as pd\n",
    "import googlemaps"
   ]
  },
  {
   "cell_type": "code",
   "execution_count": null,
   "id": "d4f41ada",
   "metadata": {},
   "outputs": [],
   "source": [
    "with open(r'..\\..\\..\\Google API key.txt') as f:\n",
    "    secret = f.readlines()[0]\n",
    "client = googlemaps.Client(key = secret)"
   ]
  },
  {
   "cell_type": "code",
   "execution_count": null,
   "id": "0d8586eb",
   "metadata": {},
   "outputs": [],
   "source": [
    "df = pd.read_csv(r'..\\3. Otimização por p-medianas\\Optimized.csv').drop(columns=['Unnamed: 0'])"
   ]
  },
  {
   "cell_type": "code",
   "execution_count": null,
   "id": "2287e75c",
   "metadata": {},
   "outputs": [],
   "source": [
    "df.style.set_sticky()"
   ]
  },
  {
   "cell_type": "code",
   "execution_count": null,
   "id": "09943609",
   "metadata": {},
   "outputs": [],
   "source": [
    "df_centros = pd.read_csv(r'..\\2. Obtenção da matriz de distâncias\\Centros.csv')"
   ]
  },
  {
   "cell_type": "code",
   "execution_count": null,
   "id": "406dba64",
   "metadata": {},
   "outputs": [],
   "source": [
    "df_centros.style.set_sticky()"
   ]
  },
  {
   "cell_type": "code",
   "execution_count": null,
   "id": "57d060e9",
   "metadata": {},
   "outputs": [],
   "source": [
    "df.shape[0]"
   ]
  },
  {
   "cell_type": "code",
   "execution_count": null,
   "id": "d0af45fa",
   "metadata": {},
   "outputs": [],
   "source": [
    "centros = pd.read_csv(r'..\\2. Obtenção da matriz de distâncias\\Centros.csv')"
   ]
  },
  {
   "cell_type": "markdown",
   "id": "81b50ddf",
   "metadata": {},
   "source": [
    "## Color"
   ]
  },
  {
   "cell_type": "code",
   "execution_count": null,
   "id": "56c2a59d",
   "metadata": {},
   "outputs": [],
   "source": [
    "def color(row):\n",
    "    if row['origem'] == 'Hospital Regional da Asa Norte':\n",
    "        color = 'yellow'\n",
    "    if row['origem'] == 'Hospital Regional da Ceilândia':\n",
    "        color = 'brown'\n",
    "    if row['origem'] == 'Hospital Regional de Sobradinho':\n",
    "        color = 'grey'\n",
    "    if row['origem'] == 'Hospital Regional de Planaltina':\n",
    "        color = 'green'\n",
    "    if row['origem'] == 'Hospital Regional de Taguatinga':\n",
    "        color = 'orange'\n",
    "    if row['origem'] == 'Hospital Regional do Gama':\n",
    "        color = 'white'\n",
    "    if row['origem'] == 'Hospital Regional do Paranoá':\n",
    "        color = 'red'\n",
    "    if row['origem'] == 'UBS 1   Núcleo Bandeirante':\n",
    "        color = 'purple'\n",
    "    return color"
   ]
  },
  {
   "cell_type": "code",
   "execution_count": null,
   "id": "28b98677",
   "metadata": {},
   "outputs": [],
   "source": [
    "df['color'] = df.apply(color, axis=1)"
   ]
  },
  {
   "cell_type": "markdown",
   "id": "1880a1a2",
   "metadata": {},
   "source": [
    "## Google Maps Plot"
   ]
  },
  {
   "cell_type": "code",
   "execution_count": null,
   "id": "6f2a8f55",
   "metadata": {},
   "outputs": [],
   "source": [
    "lista_unidades = []\n",
    "for i in df['Coordenadas'].to_list():\n",
    "    lista_unidades = lista_unidades + [eval(i)]"
   ]
  },
  {
   "cell_type": "code",
   "execution_count": null,
   "id": "5e396bb2",
   "metadata": {},
   "outputs": [],
   "source": [
    "lista_centros = []\n",
    "for i in df_centros['Coordenadas'].to_list():\n",
    "    lista_centros = lista_centros + [eval(i)]"
   ]
  },
  {
   "cell_type": "code",
   "execution_count": null,
   "id": "41a7a30b",
   "metadata": {},
   "outputs": [],
   "source": [
    "gmap = gmplot.GoogleMapPlotter(-15.788032, -47.745547, 11, apikey=secret)\n",
    "\n",
    "attractions_unidades = zip(*lista_unidades)\n",
    "\n",
    "gmap.scatter(\n",
    "    *attractions_unidades,\n",
    "    color=['red']*df.shape[0],\n",
    "    s=100,\n",
    "    ew=4,\n",
    "    marker=[True]*df.shape[0],\n",
    "    symbol=[None]*df.shape[0],\n",
    "    title=df['Coordenadas'].to_list(),\n",
    "    label=df.index.to_list()\n",
    ")\n",
    "\n",
    "attractions_centros = zip(*lista_centros)\n",
    "\n",
    "gmap.scatter(\n",
    "    *attractions_centros,\n",
    "    color='black',\n",
    "    s=100,\n",
    "    ew=4,\n",
    "    marker=[True]*df_centros.shape[0],\n",
    "    symbol=[None]*df_centros.shape[0],\n",
    "    title=df_centros['centros'].to_list(),\n",
    "    label=df_centros.index.to_list()\n",
    ")\n",
    "\n",
    "\n",
    "gmap.draw('map.html')"
   ]
  }
 ],
 "metadata": {
  "kernelspec": {
   "display_name": "Python 3 (ipykernel)",
   "language": "python",
   "name": "python3"
  },
  "language_info": {
   "codemirror_mode": {
    "name": "ipython",
    "version": 3
   },
   "file_extension": ".py",
   "mimetype": "text/x-python",
   "name": "python",
   "nbconvert_exporter": "python",
   "pygments_lexer": "ipython3",
   "version": "3.10.0"
  }
 },
 "nbformat": 4,
 "nbformat_minor": 5
}
