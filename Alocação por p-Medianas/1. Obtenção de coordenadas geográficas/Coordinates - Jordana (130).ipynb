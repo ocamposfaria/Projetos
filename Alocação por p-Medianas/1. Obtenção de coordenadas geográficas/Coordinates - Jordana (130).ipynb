{
 "cells": [
  {
   "cell_type": "markdown",
   "id": "0090dc7f",
   "metadata": {},
   "source": [
    "## Import libraries and data"
   ]
  },
  {
   "cell_type": "code",
   "execution_count": null,
   "id": "643729e4",
   "metadata": {},
   "outputs": [],
   "source": [
    "import pandas as pd\n",
    "import googlemaps"
   ]
  },
  {
   "cell_type": "code",
   "execution_count": null,
   "id": "f30ade5e",
   "metadata": {},
   "outputs": [],
   "source": [
    "with open(r'..\\..\\..\\Google API key.txt') as f:\n",
    "    secret = f.readlines()[0]\n",
    "client = googlemaps.Client(key = secret)"
   ]
  },
  {
   "cell_type": "code",
   "execution_count": null,
   "id": "6ca5aa3b",
   "metadata": {},
   "outputs": [],
   "source": [
    "df = pd.read_excel('Lista Jordana.xlsx', sheet_name='Planilha1')"
   ]
  },
  {
   "cell_type": "code",
   "execution_count": null,
   "id": "e198a24b",
   "metadata": {
    "scrolled": true
   },
   "outputs": [],
   "source": [
    "df.style.set_sticky()"
   ]
  },
  {
   "cell_type": "markdown",
   "id": "1a4157d6",
   "metadata": {},
   "source": [
    "## Get coordinates"
   ]
  },
  {
   "cell_type": "code",
   "execution_count": null,
   "id": "62ad3d87",
   "metadata": {},
   "outputs": [],
   "source": [
    "def get_coordinates(row):\n",
    "    try:\n",
    "        var = client.find_place(input=row['ENDEREÇO'], input_type='textquery', fields=['geometry'], language='portuguese')\n",
    "        coordinates = (var['candidates'][0]['geometry']['location']['lat'], var['candidates'][0]['geometry']['location']['lng'])\n",
    "    except:\n",
    "        coordinates = 'NA'\n",
    "    return coordinates"
   ]
  },
  {
   "cell_type": "code",
   "execution_count": null,
   "id": "acfa30bd",
   "metadata": {},
   "outputs": [],
   "source": [
    "def get_google_maps_name(row):\n",
    "    try:\n",
    "        var = client.find_place(input=row['ENDEREÇO'], input_type='textquery', fields=['name'], language='portuguese')\n",
    "        name = var['candidates'][0]['name']\n",
    "    except:\n",
    "        name = 'NA'\n",
    "    return name"
   ]
  },
  {
   "cell_type": "code",
   "execution_count": null,
   "id": "effea09a",
   "metadata": {},
   "outputs": [],
   "source": [
    "df['coordinates'] = df.apply(get_coordinates, axis=1)\n",
    "df['google maps name'] = df.apply(get_google_maps_name, axis=1)"
   ]
  },
  {
   "cell_type": "code",
   "execution_count": null,
   "id": "410af996",
   "metadata": {
    "scrolled": true
   },
   "outputs": [],
   "source": [
    "df.style.set_sticky()"
   ]
  },
  {
   "cell_type": "code",
   "execution_count": null,
   "id": "bd20e752",
   "metadata": {},
   "outputs": [],
   "source": [
    "df.to_csv('Lista Final com coordenadas.csv')"
   ]
  }
 ],
 "metadata": {
  "kernelspec": {
   "display_name": "Python 3 (ipykernel)",
   "language": "python",
   "name": "python3"
  },
  "language_info": {
   "codemirror_mode": {
    "name": "ipython",
    "version": 3
   },
   "file_extension": ".py",
   "mimetype": "text/x-python",
   "name": "python",
   "nbconvert_exporter": "python",
   "pygments_lexer": "ipython3",
   "version": "3.10.0"
  }
 },
 "nbformat": 4,
 "nbformat_minor": 5
}
