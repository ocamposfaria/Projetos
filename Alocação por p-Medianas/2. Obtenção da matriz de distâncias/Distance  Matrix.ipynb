{
 "cells": [
  {
   "cell_type": "markdown",
   "id": "c3908d4c",
   "metadata": {},
   "source": [
    "## Import libraries, get API client and data"
   ]
  },
  {
   "cell_type": "code",
   "execution_count": null,
   "id": "994b4238",
   "metadata": {},
   "outputs": [],
   "source": [
    "import googlemaps\n",
    "import pandas as pd"
   ]
  },
  {
   "cell_type": "code",
   "execution_count": null,
   "id": "7ddcebcc",
   "metadata": {},
   "outputs": [],
   "source": [
    "with open(r'..\\..\\..\\Google API key.txt') as f:\n",
    "    secret = f.readlines()[0]\n",
    "client = googlemaps.Client(key = secret)"
   ]
  },
  {
   "cell_type": "code",
   "execution_count": null,
   "id": "4426a177",
   "metadata": {},
   "outputs": [],
   "source": [
    "unidades = pd.read_csv(r'..\\1. Obtenção de coordenadas geográficas\\Lista Final com coordenadas.csv', delimiter=';')\n",
    "unidades = unidades.drop(columns=['Unnamed: 0'])"
   ]
  },
  {
   "cell_type": "code",
   "execution_count": null,
   "id": "c4673cb1",
   "metadata": {
    "scrolled": true
   },
   "outputs": [],
   "source": [
    "unidades.style.set_sticky()"
   ]
  },
  {
   "cell_type": "code",
   "execution_count": null,
   "id": "ad7feb20",
   "metadata": {},
   "outputs": [],
   "source": [
    "unidades.drop([30,31,32]).reset_index()"
   ]
  },
  {
   "cell_type": "markdown",
   "id": "98c05bfd",
   "metadata": {},
   "source": [
    "## Get distances"
   ]
  },
  {
   "cell_type": "code",
   "execution_count": null,
   "id": "bad0cb33",
   "metadata": {},
   "outputs": [],
   "source": [
    "coordenadas_unidades = list(unidades['coordinates'])"
   ]
  },
  {
   "cell_type": "code",
   "execution_count": null,
   "id": "d270c765",
   "metadata": {},
   "outputs": [],
   "source": [
    "centros = pd.read_csv('Centros.csv', delimiter=',')\n",
    "nomes_centros = list(centros['centros'])"
   ]
  },
  {
   "cell_type": "code",
   "execution_count": null,
   "id": "fe71cb04",
   "metadata": {},
   "outputs": [],
   "source": [
    "df = pd.DataFrame(columns = nomes_centros)"
   ]
  },
  {
   "cell_type": "code",
   "execution_count": null,
   "id": "27ee7081",
   "metadata": {
    "scrolled": true
   },
   "outputs": [],
   "source": [
    "df.style.set_sticky()"
   ]
  },
  {
   "cell_type": "code",
   "execution_count": null,
   "id": "6ab2204c",
   "metadata": {
    "scrolled": true
   },
   "outputs": [],
   "source": [
    "for j in nomes_centros:\n",
    "    for i in coordenadas_unidades:\n",
    "        try:\n",
    "            df.at[i,j] = client.distance_matrix(origins=j,destinations=i.replace('(','').replace(')',''), mode='driving')['rows'][0]['elements'][0]['distance']['value']\n",
    "        except:\n",
    "            if j == 'Hospital Regional do Gama':\n",
    "                try:\n",
    "                    df.at[i,j] = client.distance_matrix(origins='-16.023317, -48.068846',destinations=i.replace('(','').replace(')',''), mode='driving')['rows'][0]['elements'][0]['distance']['value']\n",
    "                except:\n",
    "                    print(i, j)\n",
    "            else:\n",
    "                print(i, j)"
   ]
  },
  {
   "cell_type": "code",
   "execution_count": null,
   "id": "a8580b81",
   "metadata": {},
   "outputs": [],
   "source": [
    "#df = df.reset_index()\n",
    "#df.rename(columns = {'Unnamed: 0':'Coordenadas'}, inplace = True)\n",
    "df = df.drop(columns=['level_0'])"
   ]
  },
  {
   "cell_type": "code",
   "execution_count": null,
   "id": "8e8249f7",
   "metadata": {},
   "outputs": [],
   "source": [
    "df = df.reset_index()"
   ]
  },
  {
   "cell_type": "code",
   "execution_count": null,
   "id": "98a9a9da",
   "metadata": {},
   "outputs": [],
   "source": [
    "df['UBS ou ponto de vacinação'] = unidades.drop([30,31,32]).reset_index()['UBS']\n",
    "df['Nome Google Maps'] = unidades.drop([30,31,32]).reset_index()['google maps name']\n",
    "df['coordinates\t'] = unidades.drop([30,31,32]).reset_index()['coordinates']"
   ]
  },
  {
   "cell_type": "code",
   "execution_count": null,
   "id": "04d7088c",
   "metadata": {},
   "outputs": [],
   "source": [
    "df = df.drop(columns=['UBS ou ponto de vacinação', 'Nome Google Maps'])"
   ]
  },
  {
   "cell_type": "markdown",
   "id": "43a18bf6",
   "metadata": {},
   "source": [
    "## Export"
   ]
  },
  {
   "cell_type": "code",
   "execution_count": null,
   "id": "fee02176",
   "metadata": {},
   "outputs": [],
   "source": [
    "df.style.set_sticky()"
   ]
  },
  {
   "cell_type": "code",
   "execution_count": null,
   "id": "448ee98d",
   "metadata": {},
   "outputs": [],
   "source": [
    "df.to_csv('Matriz de distâncias final - 131 unidades.csv')"
   ]
  }
 ],
 "metadata": {
  "kernelspec": {
   "display_name": "Python 3 (ipykernel)",
   "language": "python",
   "name": "python3"
  },
  "language_info": {
   "codemirror_mode": {
    "name": "ipython",
    "version": 3
   },
   "file_extension": ".py",
   "mimetype": "text/x-python",
   "name": "python",
   "nbconvert_exporter": "python",
   "pygments_lexer": "ipython3",
   "version": "3.10.0"
  }
 },
 "nbformat": 4,
 "nbformat_minor": 5
}
