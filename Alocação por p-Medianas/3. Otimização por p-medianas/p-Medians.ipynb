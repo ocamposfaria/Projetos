{
 "cells": [
  {
   "cell_type": "markdown",
   "id": "a046c110",
   "metadata": {},
   "source": [
    "## Imports"
   ]
  },
  {
   "cell_type": "code",
   "execution_count": null,
   "id": "c858a7cc",
   "metadata": {},
   "outputs": [],
   "source": [
    "from pulp import *\n",
    "import googlemaps\n",
    "import pandas as pd\n",
    "from IPython.display import Image"
   ]
  },
  {
   "cell_type": "code",
   "execution_count": null,
   "id": "6b5e2048",
   "metadata": {},
   "outputs": [],
   "source": [
    "df_unidades = pd.read_csv(r'..\\2. Obtenção da matriz de distâncias\\Matriz de distâncias.csv', delimiter=';').drop(columns=['Column1'])\n",
    "df_centros = pd.read_csv(r'..\\2. Obtenção da matriz de distâncias\\Centros.csv')"
   ]
  },
  {
   "cell_type": "code",
   "execution_count": null,
   "id": "93b4faca",
   "metadata": {},
   "outputs": [],
   "source": [
    "unidades = df_unidades['Coordenadas'].to_list()\n",
    "CDs = df_centros['centros'].to_list()\n",
    "\n",
    "demanda = df_unidades[['Coordenadas', 'Demanda']].set_index('Coordenadas').to_dict()['Demanda']\n",
    "oferta = df_centros[['centros', 'oferta']].set_index('centros').to_dict()['oferta']\n",
    "\n",
    "df = df_unidades.drop(columns=['Demanda','UBS ou ponto de vacinação','Nome Google Maps']).set_index('Coordenadas').to_dict()"
   ]
  },
  {
   "cell_type": "code",
   "execution_count": null,
   "id": "361aa307",
   "metadata": {},
   "outputs": [],
   "source": [
    "demanda"
   ]
  },
  {
   "cell_type": "code",
   "execution_count": null,
   "id": "53cf7312",
   "metadata": {
    "scrolled": true
   },
   "outputs": [],
   "source": [
    "oferta"
   ]
  },
  {
   "cell_type": "markdown",
   "id": "c5fa97cd",
   "metadata": {},
   "source": [
    "## Modeling"
   ]
  },
  {
   "cell_type": "code",
   "execution_count": null,
   "id": "ffb58823",
   "metadata": {},
   "outputs": [],
   "source": [
    "prob = LpProblem(\"THE_P_MEDIAN_PROBLEM\", LpMinimize)"
   ]
  },
  {
   "cell_type": "code",
   "execution_count": null,
   "id": "fe90b464",
   "metadata": {},
   "outputs": [],
   "source": [
    "p = 4"
   ]
  },
  {
   "cell_type": "code",
   "execution_count": null,
   "id": "8407d6aa",
   "metadata": {},
   "outputs": [],
   "source": [
    "q = 36"
   ]
  },
  {
   "cell_type": "code",
   "execution_count": null,
   "id": "fa90da1e",
   "metadata": {},
   "outputs": [],
   "source": [
    "tarifa = 0.01 # R$/KM*1u"
   ]
  },
  {
   "cell_type": "code",
   "execution_count": null,
   "id": "c495445e",
   "metadata": {
    "scrolled": true
   },
   "outputs": [],
   "source": [
    "f = 2424*2*4"
   ]
  },
  {
   "cell_type": "code",
   "execution_count": null,
   "id": "3289471a",
   "metadata": {
    "scrolled": true
   },
   "outputs": [],
   "source": [
    "x = LpVariable.dicts('X_%s_to_%s', (CDs,unidades), \n",
    "    cat = 'Binary', \n",
    "    lowBound = 0, \n",
    "    upBound = 1)"
   ]
  },
  {
   "cell_type": "code",
   "execution_count": null,
   "id": "49d6b39a",
   "metadata": {},
   "outputs": [],
   "source": [
    "y = LpVariable.dicts('Y_%s', (CDs),\n",
    "    cat = 'Binary', \n",
    "    lowBound = 0, \n",
    "    upBound = 1)"
   ]
  },
  {
   "cell_type": "markdown",
   "id": "1fb9bc7f",
   "metadata": {},
   "source": [
    "#### Objective function"
   ]
  },
  {
   "cell_type": "code",
   "execution_count": null,
   "id": "6ae2d185",
   "metadata": {},
   "outputs": [],
   "source": [
    "prob += sum(y[i]*f for i in CDs) + sum(8*x[i][j]*df[i][j]*demanda[j]/1000*tarifa for i in CDs for j in unidades), \"Custo total estimado\"\n",
    "\n",
    "# preciso dividir a demanda[j] por 1000 pois as distâncias do dict df são dadas em metros, enquanto a tarifa é dada em reais por quilômetro por dose"
   ]
  },
  {
   "cell_type": "markdown",
   "id": "50aa17dc",
   "metadata": {},
   "source": [
    "#### Constraints"
   ]
  },
  {
   "cell_type": "code",
   "execution_count": null,
   "id": "27c28728",
   "metadata": {},
   "outputs": [],
   "source": [
    "# cada unidade deve receber vacinas de um, e apenas um, CD\n",
    "for j in unidades:\n",
    "        prob += sum(x[i][j] for i in CDs) == 1"
   ]
  },
  {
   "cell_type": "code",
   "execution_count": null,
   "id": "ddc51ebd",
   "metadata": {},
   "outputs": [],
   "source": [
    "# a quantodade de CDs abertos é igual a p\n",
    "prob += lpSum(y[j] for j in CDs) == p"
   ]
  },
  {
   "cell_type": "code",
   "execution_count": null,
   "id": "34e3f80c",
   "metadata": {},
   "outputs": [],
   "source": [
    "# apenas CDs abertos podem entregar vacinas\n",
    "for i in CDs:\n",
    "    for  j in unidades:\n",
    "        prob += x[i][j]<= y[i]"
   ]
  },
  {
   "cell_type": "code",
   "execution_count": null,
   "id": "99fddaf9",
   "metadata": {},
   "outputs": [],
   "source": [
    "# cada CD só pode atender no máximo x unidades\n",
    "for i in CDs:\n",
    "    prob += lpSum(x[i][j] for j in unidades) <= q"
   ]
  },
  {
   "cell_type": "code",
   "execution_count": null,
   "id": "cf4f84e3",
   "metadata": {},
   "outputs": [],
   "source": [
    "# a soma das demandas das unidades para as quais determinado CD irá fazer entregas é menor que (ou igual) à oferta do CD\n",
    "for i in CDs:\n",
    "        prob += lpSum(demanda[j]*x[i][j] for j in unidades) <= oferta[i]*y[i]"
   ]
  },
  {
   "cell_type": "code",
   "execution_count": null,
   "id": "bb8c99a5",
   "metadata": {
    "scrolled": true
   },
   "outputs": [],
   "source": [
    "prob"
   ]
  },
  {
   "cell_type": "markdown",
   "id": "22c9cb69",
   "metadata": {},
   "source": [
    "## Solving"
   ]
  },
  {
   "cell_type": "code",
   "execution_count": null,
   "id": "2ee8917b",
   "metadata": {},
   "outputs": [],
   "source": [
    "prob.solve()"
   ]
  },
  {
   "cell_type": "code",
   "execution_count": null,
   "id": "382828ad",
   "metadata": {},
   "outputs": [],
   "source": [
    "print(f'Total: R$ {prob.objective.value()/1000}')"
   ]
  },
  {
   "cell_type": "code",
   "execution_count": null,
   "id": "0f37f7e6",
   "metadata": {
    "scrolled": true
   },
   "outputs": [],
   "source": [
    "for v in prob.variables():\n",
    "    print(v.name , '=', v.varValue)\n",
    "    #if v.varValue == 1:\n",
    "        #print(v.name , '=', v.varValue)"
   ]
  },
  {
   "cell_type": "code",
   "execution_count": null,
   "id": "6638455d",
   "metadata": {},
   "outputs": [],
   "source": [
    "import warnings\n",
    "warnings.filterwarnings(\"ignore\")\n",
    "\n",
    "df = pd.DataFrame(columns=['origem', 'destino'])\n",
    "for v in prob.variables():\n",
    "    #print(v.name , '=', v.varValue)\n",
    "    if v.varValue == 1:\n",
    "        #print(v.name , '=', v.varValue)\n",
    "        split = v.name.split('_to_')\n",
    "        split[0] = split[0].replace('X_', '')\n",
    "        try:\n",
    "            df = df.append({'origem': split[0], 'destino': split[1]}, ignore_index=True)\n",
    "        except:\n",
    "            pass"
   ]
  },
  {
   "cell_type": "markdown",
   "id": "a7cbb0a2",
   "metadata": {},
   "source": [
    "## Result"
   ]
  },
  {
   "cell_type": "code",
   "execution_count": null,
   "id": "b2e30719",
   "metadata": {},
   "outputs": [],
   "source": [
    "df['origem'] = df['origem'].replace('_',' ',regex=True)\n",
    "df['destino'] = df['destino'].replace('__','-',regex=True)\n",
    "df['destino'] = df['destino'].replace('_','-',regex=True)"
   ]
  },
  {
   "cell_type": "code",
   "execution_count": null,
   "id": "e82436e1",
   "metadata": {
    "scrolled": true
   },
   "outputs": [],
   "source": [
    "df.style.set_sticky()"
   ]
  },
  {
   "cell_type": "markdown",
   "id": "2298a8af",
   "metadata": {},
   "source": [
    "## Get informations to output dataframe"
   ]
  },
  {
   "cell_type": "code",
   "execution_count": null,
   "id": "33fda690",
   "metadata": {},
   "outputs": [],
   "source": [
    "df['destino'] = df['destino'].str.replace(',-',', -')"
   ]
  },
  {
   "cell_type": "code",
   "execution_count": null,
   "id": "c1e47846",
   "metadata": {},
   "outputs": [],
   "source": [
    "df = df.rename(columns={'destino':'Coordenadas'})"
   ]
  },
  {
   "cell_type": "code",
   "execution_count": null,
   "id": "908bf99e",
   "metadata": {},
   "outputs": [],
   "source": [
    "df_inner = df.merge(df_unidades, on='Coordenadas',how='inner')"
   ]
  },
  {
   "cell_type": "code",
   "execution_count": null,
   "id": "7a0b34fd",
   "metadata": {
    "scrolled": true
   },
   "outputs": [],
   "source": [
    "df_inner.to_csv('Optimized.csv')"
   ]
  },
  {
   "cell_type": "code",
   "execution_count": null,
   "id": "a364619e",
   "metadata": {},
   "outputs": [],
   "source": [
    "print(f'Total: R$ {prob.objective.value()}')"
   ]
  },
  {
   "cell_type": "code",
   "execution_count": null,
   "id": "fa092209",
   "metadata": {},
   "outputs": [],
   "source": [
    "df['origem'].unique()"
   ]
  }
 ],
 "metadata": {
  "celltoolbar": "Raw Cell Format",
  "kernelspec": {
   "display_name": "Python 3 (ipykernel)",
   "language": "python",
   "name": "python3"
  },
  "language_info": {
   "codemirror_mode": {
    "name": "ipython",
    "version": 3
   },
   "file_extension": ".py",
   "mimetype": "text/x-python",
   "name": "python",
   "nbconvert_exporter": "python",
   "pygments_lexer": "ipython3",
   "version": "3.10.0"
  }
 },
 "nbformat": 4,
 "nbformat_minor": 5
}
