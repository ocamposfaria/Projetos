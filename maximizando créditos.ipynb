 {
 "cells": [
  {
   "cell_type": "code",
   "execution_count": 1,
   "id": "consecutive-allowance",
   "metadata": {},
   "outputs": [],
   "source": [
    "import pandas as pd\n",
    "import pulp as plp"
   ]
  },
  {
   "cell_type": "code",
   "execution_count": 2,
   "id": "southwest-copyright",
   "metadata": {},
   "outputs": [],
   "source": [
    "df = pd.read_csv(r'C:\\Users\\jpcam\\Área de Trabalho\\projeto linear programming\\matérias para o algoritmo.csv', delimiter = ';')"
   ]
  },
  {
   "cell_type": "code",
   "execution_count": 3,
   "id": "current-international",
   "metadata": {},
   "outputs": [],
   "source": [
    "# DEFININDO PROBLEMA\n",
    "\n",
    "prob = plp.LpProblem('maximizar_créditos', plp.LpMaximize)"
   ]
  },
  {
   "cell_type": "code",
   "execution_count": 4,
   "id": "humanitarian-underwear",
   "metadata": {},
   "outputs": [],
   "source": [
    "# DEFININDO VARIÁVEIS DE DECISÃO\n",
    "\n",
    "variaveis = [plp.LpVariable('x{}'.format(str(i)), 0, 1, cat='Integer') for i in range(df.shape[0])]\n",
    "\n",
    "creditos = []\n",
    "for i in range(df.shape[0]):\n",
    "    creditos += [df.iloc[i][1]]"
   ]
  },
  {
   "cell_type": "code",
   "execution_count": 5,
   "id": "clear-residence",
   "metadata": {},
   "outputs": [],
   "source": [
    "# ESCREVENDO FUNÇÃO-OBJETIVO\n",
    "\n",
    "prob += plp.lpSum(variaveis[i]*creditos[i] for i in range(df.shape[0]))"
   ]
  },
  {
   "cell_type": "code",
   "execution_count": 6,
   "id": "south-sarah",
   "metadata": {},
   "outputs": [],
   "source": [
    "# CRIANDO AS PRIEMEIRAS RESTRIÇÕES\n",
    "\n",
    "# restrições de horários iguais em matérias diferentes\n",
    "\n",
    "for k in [2,4,6]:\n",
    "    for i in range(df.shape[0]):\n",
    "        h = str(df.iloc[i][k])+str(df.iloc[i][k+1])\n",
    "        for j in range(df.shape[0]):\n",
    "            if j > i:\n",
    "                h1 = str(df.iloc[j][2])+str(df.iloc[j][3])\n",
    "                h2 = str(df.iloc[j][4])+str(df.iloc[j][5])\n",
    "                h3 = str(df.iloc[j][6])+str(df.iloc[j][7])\n",
    "                if h != '--':\n",
    "                    if h == h1 or h == h2 or h == h3:\n",
    "                        prob += variaveis[i] + variaveis[j] <= 1\n",
    "                        \n",
    "# restrições de matérias iguais em horários diferentes\n",
    "\n",
    "for i in range(df.shape[0]):\n",
    "    for j in range(df.shape[0]):\n",
    "        if i != j and df.iloc[i][0] == df.iloc[j][0]:\n",
    "                prob += variaveis[i] + variaveis[j] <= 1"
   ]
  },
  {
   "cell_type": "code",
   "execution_count": 7,
   "id": "optimum-stack",
   "metadata": {},
   "outputs": [],
   "source": [
    "# RODANDO MODELO E ATUALIZANDO AS RESTRIÇÕES PARA GERAR MAIS GRADES\n",
    "\n",
    "contagem = 0\n",
    "prob.solve()\n",
    "\n",
    "while contagem < 5:\n",
    "    \n",
    "    prob.solve()\n",
    "    \n",
    "    # CRIANDO NOVA GRADE VAZIA\n",
    "    \n",
    "    dias = ['horário','SEG', 'TER', 'QUA', 'QUI', 'SEX', 'SAB']\n",
    "    horarios = {'horário': ['8:00','8:55','10:00','10:55','12:00','12:55','14:00','14:55','16:00','16:55','18:00','18:55','19:00','19:50','20:50','21:40']}\n",
    "\n",
    "    grade = pd.DataFrame(horarios,columns=dias)\n",
    "    \n",
    "    # PREENCHENDO NOVA GRADE\n",
    "\n",
    "    for i in prob.variables():\n",
    "        if i.varValue == 1:\n",
    "            j = int(i.name.replace(\"x\",\"\"))\n",
    "            for k in [2,4,6]:\n",
    "                if df.iloc[j][k] != '-':\n",
    "                    dia = df.iloc[j][k]\n",
    "                    horario = df.iloc[j][k+1]\n",
    "                    if horario[0] == 'M':\n",
    "                        for n in horario[1:]:\n",
    "                            grade.iloc[int(n)][int(dia)-1] = df.iloc[j][0]\n",
    "                    if horario[0] == 'T':\n",
    "                        for n in horario[1:]:\n",
    "                            grade.iloc[int(n)+4][int(dia)-1] = df.iloc[j][0]\n",
    "                    if horario[0] == 'N':\n",
    "                        for n in horario[1:]:\n",
    "                            grade.iloc[int(n)+11][int(dia)-1] = df.iloc[j][0]\n",
    "\n",
    "    grade.to_csv(r'C:\\Users\\jpcam\\Área de Trabalho\\grade ' + str(contagem+1) + '.csv',sep=';',encoding='latin1')\n",
    "\n",
    "    contagem = contagem + 1\n",
    "\n",
    "    # ESCREVER NOVAS RESTRIÇÕES AQUI\n",
    "    \n",
    "    nova_restriçao = []\n",
    "\n",
    "    for i in prob.variables():\n",
    "        if i.varValue == 1:\n",
    "            nova_restriçao = nova_restriçao + [i]\n",
    "    \n",
    "    prob += plp.lpSum(nova_restriçao[i] for i in range(len(nova_restriçao))) <= len(nova_restriçao)-1\n",
    "    "
   ]
  }
 ],
 "metadata": {
  "kernelspec": {
   "display_name": "Python 3",
   "language": "python",
   "name": "python3"
  },
  "language_info": {
   "codemirror_mode": {
    "name": "ipython",
    "version": 3
   },
   "file_extension": ".py",
   "mimetype": "text/x-python",
   "name": "python",
   "nbconvert_exporter": "python",
   "pygments_lexer": "ipython3",
   "version": "3.8.7"
  }
 },
 "nbformat": 4,
 "nbformat_minor": 5
}
